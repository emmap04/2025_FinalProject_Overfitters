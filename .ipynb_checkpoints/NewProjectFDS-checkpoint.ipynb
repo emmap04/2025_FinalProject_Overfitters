{
 "cells": [
  {
   "cell_type": "code",
   "execution_count": 12,
   "id": "e38fd420-a0d2-4825-99b6-9a8a016004a1",
   "metadata": {},
   "outputs": [],
   "source": [
    "import pandas as pd\n",
    "divorce = pd.read_csv('Marriage_Divorce_DB.csv')"
   ]
  },
  {
   "cell_type": "code",
   "execution_count": 45,
   "id": "02705432-f4fc-4faf-b9d6-3136359bcea6",
   "metadata": {},
   "outputs": [
    {
     "data": {
      "text/html": [
       "<div>\n",
       "<style scoped>\n",
       "    .dataframe tbody tr th:only-of-type {\n",
       "        vertical-align: middle;\n",
       "    }\n",
       "\n",
       "    .dataframe tbody tr th {\n",
       "        vertical-align: top;\n",
       "    }\n",
       "\n",
       "    .dataframe thead th {\n",
       "        text-align: right;\n",
       "    }\n",
       "</style>\n",
       "<table border=\"1\" class=\"dataframe\">\n",
       "  <thead>\n",
       "    <tr style=\"text-align: right;\">\n",
       "      <th></th>\n",
       "      <th>Age Gap</th>\n",
       "      <th>Education</th>\n",
       "      <th>Economic Similarity</th>\n",
       "      <th>Social Similarities</th>\n",
       "      <th>Cultural Similarities</th>\n",
       "      <th>Social Gap</th>\n",
       "      <th>Common Interests</th>\n",
       "      <th>Religion Compatibility</th>\n",
       "      <th>No of Children from Previous Marriage</th>\n",
       "      <th>Desire to Marry</th>\n",
       "      <th>...</th>\n",
       "      <th>Addiction</th>\n",
       "      <th>Loyalty</th>\n",
       "      <th>Height Ratio</th>\n",
       "      <th>Good Income</th>\n",
       "      <th>Self Confidence</th>\n",
       "      <th>Relation with Non-spouse Before Marriage</th>\n",
       "      <th>Spouse Confirmed by Family</th>\n",
       "      <th>Divorce in the Family of Grade 1</th>\n",
       "      <th>Start Socializing with the Opposite Sex Age</th>\n",
       "      <th>Divorce Probability</th>\n",
       "    </tr>\n",
       "  </thead>\n",
       "  <tbody>\n",
       "    <tr>\n",
       "      <th>0</th>\n",
       "      <td>0.111633</td>\n",
       "      <td>1.915111</td>\n",
       "      <td>10.998678</td>\n",
       "      <td>76.456065</td>\n",
       "      <td>47.847460</td>\n",
       "      <td>50.317656</td>\n",
       "      <td>88.099898</td>\n",
       "      <td>83.738075</td>\n",
       "      <td>4.402822</td>\n",
       "      <td>22.868019</td>\n",
       "      <td>...</td>\n",
       "      <td>3.134119</td>\n",
       "      <td>49.648480</td>\n",
       "      <td>30.822948</td>\n",
       "      <td>94.499164</td>\n",
       "      <td>45.964824</td>\n",
       "      <td>2.032610</td>\n",
       "      <td>1.719332</td>\n",
       "      <td>2.262242</td>\n",
       "      <td>24.356772</td>\n",
       "      <td>2.760190</td>\n",
       "    </tr>\n",
       "    <tr>\n",
       "      <th>1</th>\n",
       "      <td>3.355384</td>\n",
       "      <td>2.957842</td>\n",
       "      <td>82.138120</td>\n",
       "      <td>48.656031</td>\n",
       "      <td>30.188517</td>\n",
       "      <td>54.114612</td>\n",
       "      <td>57.020971</td>\n",
       "      <td>98.408133</td>\n",
       "      <td>4.367024</td>\n",
       "      <td>40.336843</td>\n",
       "      <td>...</td>\n",
       "      <td>2.067377</td>\n",
       "      <td>75.220699</td>\n",
       "      <td>68.268221</td>\n",
       "      <td>41.102605</td>\n",
       "      <td>65.387715</td>\n",
       "      <td>1.053402</td>\n",
       "      <td>1.456192</td>\n",
       "      <td>9.795998</td>\n",
       "      <td>19.667152</td>\n",
       "      <td>1.962979</td>\n",
       "    </tr>\n",
       "    <tr>\n",
       "      <th>2</th>\n",
       "      <td>6.527365</td>\n",
       "      <td>2.772463</td>\n",
       "      <td>26.337826</td>\n",
       "      <td>59.356238</td>\n",
       "      <td>10.340252</td>\n",
       "      <td>76.595377</td>\n",
       "      <td>80.590985</td>\n",
       "      <td>41.743462</td>\n",
       "      <td>1.197120</td>\n",
       "      <td>45.941845</td>\n",
       "      <td>...</td>\n",
       "      <td>3.599095</td>\n",
       "      <td>22.551866</td>\n",
       "      <td>59.134874</td>\n",
       "      <td>23.053577</td>\n",
       "      <td>84.271897</td>\n",
       "      <td>8.268308</td>\n",
       "      <td>7.095241</td>\n",
       "      <td>9.986173</td>\n",
       "      <td>15.522517</td>\n",
       "      <td>2.858803</td>\n",
       "    </tr>\n",
       "    <tr>\n",
       "      <th>3</th>\n",
       "      <td>5.203075</td>\n",
       "      <td>1.729242</td>\n",
       "      <td>66.956033</td>\n",
       "      <td>5.472612</td>\n",
       "      <td>1.003407</td>\n",
       "      <td>55.071435</td>\n",
       "      <td>99.718078</td>\n",
       "      <td>70.493011</td>\n",
       "      <td>3.392041</td>\n",
       "      <td>2.924863</td>\n",
       "      <td>...</td>\n",
       "      <td>1.549274</td>\n",
       "      <td>99.172136</td>\n",
       "      <td>40.984117</td>\n",
       "      <td>43.400040</td>\n",
       "      <td>96.081229</td>\n",
       "      <td>5.852371</td>\n",
       "      <td>6.570749</td>\n",
       "      <td>5.099396</td>\n",
       "      <td>34.665933</td>\n",
       "      <td>1.404621</td>\n",
       "    </tr>\n",
       "    <tr>\n",
       "      <th>4</th>\n",
       "      <td>6.864962</td>\n",
       "      <td>4.370290</td>\n",
       "      <td>76.245035</td>\n",
       "      <td>26.797234</td>\n",
       "      <td>93.291581</td>\n",
       "      <td>73.736241</td>\n",
       "      <td>52.896199</td>\n",
       "      <td>11.729729</td>\n",
       "      <td>2.373553</td>\n",
       "      <td>89.851492</td>\n",
       "      <td>...</td>\n",
       "      <td>4.031738</td>\n",
       "      <td>21.629472</td>\n",
       "      <td>89.122381</td>\n",
       "      <td>51.615509</td>\n",
       "      <td>53.330824</td>\n",
       "      <td>9.717223</td>\n",
       "      <td>7.609152</td>\n",
       "      <td>1.294295</td>\n",
       "      <td>22.545763</td>\n",
       "      <td>1.318819</td>\n",
       "    </tr>\n",
       "  </tbody>\n",
       "</table>\n",
       "<p>5 rows × 31 columns</p>\n",
       "</div>"
      ],
      "text/plain": [
       "    Age Gap  Education  Economic Similarity  Social Similarities  \\\n",
       "0  0.111633   1.915111            10.998678            76.456065   \n",
       "1  3.355384   2.957842            82.138120            48.656031   \n",
       "2  6.527365   2.772463            26.337826            59.356238   \n",
       "3  5.203075   1.729242            66.956033             5.472612   \n",
       "4  6.864962   4.370290            76.245035            26.797234   \n",
       "\n",
       "   Cultural Similarities  Social Gap  Common Interests  \\\n",
       "0              47.847460   50.317656         88.099898   \n",
       "1              30.188517   54.114612         57.020971   \n",
       "2              10.340252   76.595377         80.590985   \n",
       "3               1.003407   55.071435         99.718078   \n",
       "4              93.291581   73.736241         52.896199   \n",
       "\n",
       "   Religion Compatibility  No of Children from Previous Marriage  \\\n",
       "0               83.738075                               4.402822   \n",
       "1               98.408133                               4.367024   \n",
       "2               41.743462                               1.197120   \n",
       "3               70.493011                               3.392041   \n",
       "4               11.729729                               2.373553   \n",
       "\n",
       "   Desire to Marry  ...  Addiction    Loyalty  Height Ratio  Good Income  \\\n",
       "0        22.868019  ...   3.134119  49.648480     30.822948    94.499164   \n",
       "1        40.336843  ...   2.067377  75.220699     68.268221    41.102605   \n",
       "2        45.941845  ...   3.599095  22.551866     59.134874    23.053577   \n",
       "3         2.924863  ...   1.549274  99.172136     40.984117    43.400040   \n",
       "4        89.851492  ...   4.031738  21.629472     89.122381    51.615509   \n",
       "\n",
       "   Self Confidence  Relation with Non-spouse Before Marriage  \\\n",
       "0        45.964824                                  2.032610   \n",
       "1        65.387715                                  1.053402   \n",
       "2        84.271897                                  8.268308   \n",
       "3        96.081229                                  5.852371   \n",
       "4        53.330824                                  9.717223   \n",
       "\n",
       "   Spouse Confirmed by Family  Divorce in the Family of Grade 1  \\\n",
       "0                    1.719332                          2.262242   \n",
       "1                    1.456192                          9.795998   \n",
       "2                    7.095241                          9.986173   \n",
       "3                    6.570749                          5.099396   \n",
       "4                    7.609152                          1.294295   \n",
       "\n",
       "   Start Socializing with the Opposite Sex Age   Divorce Probability  \n",
       "0                                     24.356772             2.760190  \n",
       "1                                     19.667152             1.962979  \n",
       "2                                     15.522517             2.858803  \n",
       "3                                     34.665933             1.404621  \n",
       "4                                     22.545763             1.318819  \n",
       "\n",
       "[5 rows x 31 columns]"
      ]
     },
     "execution_count": 45,
     "metadata": {},
     "output_type": "execute_result"
    }
   ],
   "source": [
    "divorce.head()"
   ]
  },
  {
   "cell_type": "code",
   "execution_count": 13,
   "id": "1fe6de39-e4ab-4f01-905a-0f4cc381d63e",
   "metadata": {},
   "outputs": [],
   "source": [
    "import numpy as np\n",
    "import matplotlib.pyplot as plt\n",
    "from sklearn.datasets import make_regression             \n",
    "from sklearn.model_selection import train_test_split      \n",
    "from sklearn.linear_model import LinearRegression         \n",
    "from sklearn.metrics import mean_squared_error, r2_score "
   ]
  },
  {
   "cell_type": "code",
   "execution_count": 14,
   "id": "3c19690e-9993-446b-8953-cd587b2dc797",
   "metadata": {},
   "outputs": [],
   "source": [
    "def plot_preds(y_true, y_pred, title):\n",
    "    plt.figure()\n",
    "    plt.scatter(y_true, y_pred, alpha=0.5)\n",
    "    plt.xlabel(\"Actual\")\n",
    "    plt.ylabel(\"Predicted\")\n",
    "    plt.title(title)\n",
    "    plt.show()\n"
   ]
  },
  {
   "cell_type": "code",
   "execution_count": 54,
   "id": "a58e840e-57c6-4526-9857-b8d75c0577e6",
   "metadata": {},
   "outputs": [
    {
     "name": "stdout",
     "output_type": "stream",
     "text": [
      "['Common Interests', 'The Sense of Having Children', 'Desire to Marry', 'The Proportion of Common Genes', 'Previous Trading', 'Relationship with the Spouse Family', 'Social Similarities', 'Start Socializing with the Opposite Sex Age ', 'Good Income', 'Education']\n"
     ]
    }
   ],
   "source": [
    "correlations = divorce.corr()['Divorce Probability'].drop('Divorce Probability')\n",
    "sorted_corr = correlations.sort_values(ascending=False)\n",
    "\n",
    "top_10_features = sorted_corr.head(10).index.tolist()\n",
    "bottom_10_features = sorted_corr.tail(10).index.tolist()\n",
    "print(bottom_10_features)"
   ]
  },
  {
   "cell_type": "code",
   "execution_count": 25,
   "id": "feefe722-a8b1-4b2f-b961-4e5a672f0ec1",
   "metadata": {},
   "outputs": [
    {
     "data": {
      "image/png": "[encoded data removed]",
      "text/plain": [
       "<Figure size 640x480 with 1 Axes>"
      ]
     },
     "metadata": {},
     "output_type": "display_data"
    }
   ],
   "source": [
    "## plot with only top 3 most correlated on Divorce Probability:\n",
    "x = divorce[['Addiction', 'Love', 'Age Gap', 'Mental Health', 'Independency', 'Relation with Non-spouse Before Marriage', 'Loyalty', 'Spouse Confirmed by Family', 'Divorce in the Family of Grade 1', 'Social Gap']]\n",
    "y = divorce['Divorce Probability']\n",
    "\n",
    "x_train, x_test, y_train, y_test = train_test_split(x, y, test_size = 0.2, random_state = 23)\n",
    "model = LinearRegression()\n",
    "model.fit(x_train, y_train)\n",
    "\n",
    "y_pred_top10= model.predict(x_test)\n",
    "plot_preds(y_test, y_pred_top10, 'Top 10 Most Correlated Factors to Divorce Probability')\n"
   ]
  },
  {
   "cell_type": "code",
   "execution_count": 18,
   "id": "37994f7c-5739-4a62-8151-548221ec9e59",
   "metadata": {},
   "outputs": [
    {
     "name": "stdout",
     "output_type": "stream",
     "text": [
      "r2: -0.3948119378578081\n",
      " mse: 0.31777724980748684\n"
     ]
    }
   ],
   "source": [
    "r2_top10 = r2_score(y_test, y_pred_top10)\n",
    "mse_top10 = mean_squared_error(y_test, y_pred_top10)\n",
    "print(f'r2: {r2_top10}\\n mse: {mse_top10}')"
   ]
  },
  {
   "cell_type": "code",
   "execution_count": 56,
   "id": "75fd2c87-0cf8-4ee0-be46-f777e26d73fe",
   "metadata": {},
   "outputs": [
    {
     "data": {
      "image/png": "[encoded data removed]",
      "text/plain": [
       "<Figure size 640x480 with 1 Axes>"
      ]
     },
     "metadata": {},
     "output_type": "display_data"
    }
   ],
   "source": [
    "divorce = pd.read_csv(\"Marriage_Divorce_DB.csv\")\n",
    "\n",
    "# Drop low-correlation features\n",
    "features_to_drop = ['Common Interests', 'The Sense of Having Children', 'Desire to Marry', 'The Proportion of Common Genes', 'Previous Trading', 'Relationship with the Spouse Family', 'Social Similarities', 'Start Socializing with the Opposite Sex Age ', 'Good Income', 'Education']\n",
    "divorce_reduced = divorce.drop(columns=features_to_drop)\n",
    "\n",
    "\n",
    "X = divorce_reduced.drop(columns=['Divorce Probability'])\n",
    "y = divorce_reduced['Divorce Probability']                 \n",
    "\n",
    "# Train-test split\n",
    "X_train, X_test, y_train, y_test = train_test_split(X, y, test_size=0.2, random_state=23)\n",
    "\n",
    "# Fit model\n",
    "model = LinearRegression()\n",
    "model.fit(X_train, y_train)\n",
    "\n",
    "# Predict using matching features\n",
    "y_pred = model.predict(X_test)\n",
    "plot_preds(y_test, y_pred, 'plot')"
   ]
  },
  {
   "cell_type": "code",
   "execution_count": 57,
   "id": "346b5f67-5d59-4cd2-96c6-e96fadcbae6b",
   "metadata": {},
   "outputs": [
    {
     "name": "stdout",
     "output_type": "stream",
     "text": [
      "r2 = -0.47842922057310333\n",
      "mse = 0.33682761022987556\n"
     ]
    }
   ],
   "source": [
    "r2_top20 = r2_score(y_test, y_pred)\n",
    "mse_top20 = mean_squared_error(y_test, y_pred)\n",
    "print(f'r2 = {r2_top20}\\nmse = {mse_top20}')"
   ]
  },
  {
   "cell_type": "code",
   "execution_count": 59,
   "id": "0538d356-ee58-45f6-a673-21b7c88b5842",
   "metadata": {},
   "outputs": [],
   "source": [
    "divorce_all = pd.read_csv('Marriage_Divorce_DB.csv')\n",
    "x_all = divorce.drop(columns = ['Divorce Probability'])\n",
    "y3 = divorce_all['Divorce Probability']"
   ]
  },
  {
   "cell_type": "code",
   "execution_count": 60,
   "id": "d53995a9-8add-4ae4-9feb-140e259f43fe",
   "metadata": {},
   "outputs": [
    {
     "data": {
      "image/png": "[encoded data removed]",
      "text/plain": [
       "<Figure size 640x480 with 1 Axes>"
      ]
     },
     "metadata": {},
     "output_type": "display_data"
    }
   ],
   "source": [
    "x_train3, x_test3, y_train3, y_test3 = train_test_split(x_all, y3, test_size = 0.2, random_state = 23)\n",
    "model_all = LinearRegression()\n",
    "model_all.fit(x_train3, y_train3)\n",
    "\n",
    "y_pred = model_all.predict(x_test3)\n",
    "plot_preds(y_test3, y_pred, 'All Factors')"
   ]
  },
  {
   "cell_type": "code",
   "execution_count": 61,
   "id": "867f8e60-f596-4781-87d8-72ac7980630d",
   "metadata": {},
   "outputs": [
    {
     "name": "stdout",
     "output_type": "stream",
     "text": [
      "r2 = -1.234770396544722\n",
      "mse = 0.5091433269891935\n"
     ]
    }
   ],
   "source": [
    "r2_all = r2_score(y_test3, y_pred)\n",
    "mse_all = mean_squared_error(y_test3, y_pred)\n",
    "print(f'r2 = {r2_all}\\nmse = {mse_all}')"
   ]
  },
  {
   "cell_type": "code",
   "execution_count": null,
   "id": "44ad8cbe-00af-4ee3-905a-f7a8b87ad4b4",
   "metadata": {},
   "outputs": [],
   "source": []
  }
 ],
 "metadata": {
  "kernelspec": {
   "display_name": "Python 3 (ipykernel)",
   "language": "python",
   "name": "python3"
  },
  "language_info": {
   "codemirror_mode": {
    "name": "ipython",
    "version": 3
   },
   "file_extension": ".py",
   "mimetype": "text/x-python",
   "name": "python",
   "nbconvert_exporter": "python",
   "pygments_lexer": "ipython3",
   "version": "3.13.1"
  }
 },
 "nbformat": 4,
 "nbformat_minor": 5
}
