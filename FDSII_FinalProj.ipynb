{
 "cells": [
  {
   "cell_type": "code",
   "execution_count": 1,
   "id": "118fc150-73e1-4a63-a510-9b340e2d53dd",
   "metadata": {},
   "outputs": [],
   "source": [
    "# Import libraries\n",
    "import numpy as np\n",
    "import matplotlib.pyplot as plt\n",
    "import pandas as pd\n",
    "import seaborn as sns"
   ]
  },
  {
   "cell_type": "code",
   "execution_count": 7,
   "id": "061e42ec-328f-49a4-b9f2-80af123b529b",
   "metadata": {},
   "outputs": [
    {
     "data": {
      "text/plain": [
       "<bound method NDFrame.head of      Age Gap  Education  Economic Similarity  Social Similarities  \\\n",
       "0   0.111633   1.915111            10.998678            76.456065   \n",
       "1   3.355384   2.957842            82.138120            48.656031   \n",
       "2   6.527365   2.772463            26.337826            59.356238   \n",
       "3   5.203075   1.729242            66.956033             5.472612   \n",
       "4   6.864962   4.370290            76.245035            26.797234   \n",
       "..       ...        ...                  ...                  ...   \n",
       "95  6.962987   4.290912             8.386214            62.291307   \n",
       "96  0.782445   3.134205            59.812318            65.977429   \n",
       "97  4.181422   1.213900            36.880983            66.255955   \n",
       "98  3.487983   1.658356            74.237358            41.293409   \n",
       "99  5.818757   3.087757            56.908983            41.398349   \n",
       "\n",
       "    Cultural Similarities  Social Gap  Common Interests  \\\n",
       "0               47.847460   50.317656         88.099898   \n",
       "1               30.188517   54.114612         57.020971   \n",
       "2               10.340252   76.595377         80.590985   \n",
       "3                1.003407   55.071435         99.718078   \n",
       "4               93.291581   73.736241         52.896199   \n",
       "..                    ...         ...               ...   \n",
       "95              54.683196   96.368597         70.819993   \n",
       "96              75.489836   37.836755         90.947532   \n",
       "97              75.764438   13.180621         84.961868   \n",
       "98              12.489656   94.018496         76.700340   \n",
       "99              35.715356   90.396363         63.087658   \n",
       "\n",
       "    Religion Compatibility  No of Children from Previous Marriage  \\\n",
       "0                83.738075                               4.402822   \n",
       "1                98.408133                               4.367024   \n",
       "2                41.743462                               1.197120   \n",
       "3                70.493011                               3.392041   \n",
       "4                11.729729                               2.373553   \n",
       "..                     ...                                    ...   \n",
       "95               34.046550                               4.244249   \n",
       "96               21.744616                               4.117648   \n",
       "97               99.551777                               1.404545   \n",
       "98                7.633928                               3.089036   \n",
       "99               60.403364                               2.192293   \n",
       "\n",
       "    Desire to Marry  ...  Addiction    Loyalty  Height Ratio  Good Income  \\\n",
       "0         22.868019  ...   3.134119  49.648480     30.822948    94.499164   \n",
       "1         40.336843  ...   2.067377  75.220699     68.268221    41.102605   \n",
       "2         45.941845  ...   3.599095  22.551866     59.134874    23.053577   \n",
       "3          2.924863  ...   1.549274  99.172136     40.984117    43.400040   \n",
       "4         89.851492  ...   4.031738  21.629472     89.122381    51.615509   \n",
       "..              ...  ...        ...        ...           ...          ...   \n",
       "95        88.883882  ...   3.858440  38.208996     69.785850     4.424765   \n",
       "96        72.646174  ...   2.230562  52.062020     36.438678     6.802079   \n",
       "97        91.350428  ...   4.513791  21.057973     42.934991    31.621211   \n",
       "98        88.040777  ...   1.127180  78.614687     13.793834    76.446395   \n",
       "99        87.136958  ...   2.840089  36.005010     59.398621    55.553006   \n",
       "\n",
       "    Self Confidence  Relation with Non-spouse Before Marriage  \\\n",
       "0         45.964824                                  2.032610   \n",
       "1         65.387715                                  1.053402   \n",
       "2         84.271897                                  8.268308   \n",
       "3         96.081229                                  5.852371   \n",
       "4         53.330824                                  9.717223   \n",
       "..              ...                                       ...   \n",
       "95        89.069231                                  1.310490   \n",
       "96        68.304033                                  1.402042   \n",
       "97        87.202084                                  9.236842   \n",
       "98        54.355077                                  2.529191   \n",
       "99        86.318802                                  2.238560   \n",
       "\n",
       "    Spouse Confirmed by Family  Divorce in the Family of Grade 1  \\\n",
       "0                     1.719332                          2.262242   \n",
       "1                     1.456192                          9.795998   \n",
       "2                     7.095241                          9.986173   \n",
       "3                     6.570749                          5.099396   \n",
       "4                     7.609152                          1.294295   \n",
       "..                         ...                               ...   \n",
       "95                    4.791609                          7.237212   \n",
       "96                    1.393353                          3.153041   \n",
       "97                    9.636910                          6.178748   \n",
       "98                    4.424587                          3.828083   \n",
       "99                    5.450913                          7.333027   \n",
       "\n",
       "    Start Socializing with the Opposite Sex Age   Divorce Probability  \n",
       "0                                      24.356772             2.760190  \n",
       "1                                      19.667152             1.962979  \n",
       "2                                      15.522517             2.858803  \n",
       "3                                      34.665933             1.404621  \n",
       "4                                      22.545763             1.318819  \n",
       "..                                           ...                  ...  \n",
       "95                                     25.947024             1.508494  \n",
       "96                                     36.659010             1.564502  \n",
       "97                                     16.550659             2.645653  \n",
       "98                                     19.358255             1.754198  \n",
       "99                                     30.717932             1.935506  \n",
       "\n",
       "[100 rows x 31 columns]>"
      ]
     },
     "execution_count": 7,
     "metadata": {},
     "output_type": "execute_result"
    }
   ],
   "source": [
    "# Import dataset\n",
    "divorce = pd.read_csv('C:/Users/sydne/OneDrive - The University of Texas at Austin/FDS-CourseTwo/Final Project/projdata/Marriage_Divorce_DB.csv')\n",
    "divorce.head"
   ]
  },
  {
   "cell_type": "code",
   "execution_count": 11,
   "id": "fed6d63e-0c7c-4076-aafe-1e9c331ad790",
   "metadata": {},
   "outputs": [
    {
     "name": "stdout",
     "output_type": "stream",
     "text": [
      "The feature with the highest correlation with Median House Value is: Addiction\n"
     ]
    }
   ],
   "source": [
    "# Finding top three most correlated variables\n",
    "correlations = divorce.corr()  \n",
    "most_highly_correlated = correlations['Divorce Probability'].drop('Divorce Probability').idxmax()  #find the highest correlation\n",
    "print(f\"The feature with the highest correlation with Median House Value is: {most_highly_correlated}\")"
   ]
  }
 ],
 "metadata": {
  "kernelspec": {
   "display_name": "Python 3 (ipykernel)",
   "language": "python",
   "name": "python3"
  },
  "language_info": {
   "codemirror_mode": {
    "name": "ipython",
    "version": 3
   },
   "file_extension": ".py",
   "mimetype": "text/x-python",
   "name": "python",
   "nbconvert_exporter": "python",
   "pygments_lexer": "ipython3",
   "version": "3.12.4"
  }
 },
 "nbformat": 4,
 "nbformat_minor": 5
}
